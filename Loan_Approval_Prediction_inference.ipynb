{
 "cells": [
  {
   "cell_type": "code",
   "execution_count": 4,
   "metadata": {},
   "outputs": [],
   "source": [
    "from joblib import load\n",
    "import pandas as pd "
   ]
  },
  {
   "cell_type": "markdown",
   "metadata": {},
   "source": [
    "# Load the model, preprocessor and data columns "
   ]
  },
  {
   "cell_type": "code",
   "execution_count": 1,
   "metadata": {},
   "outputs": [],
   "source": [
    "\n",
    "# Load the saved Random Forest model\n",
    "loaded_model = load('best_random_forest_model.joblib')\n",
    "\n",
    "# Load the saved preprocessor object\n",
    "loaded_preprocessor = load('preprocessor.joblib')\n",
    "\n",
    "\n",
    "# Load the saved data\n",
    "loaded_data = load('columns_data.joblib')\n",
    "\n",
    "# Access the numerical and categorical columns\n",
    "numerical_columns = loaded_data['numerical_columns']\n",
    "categorical_columns = loaded_data['categorical_columns']"
   ]
  },
  {
   "cell_type": "markdown",
   "metadata": {},
   "source": [
    "# Create dummy data for inference"
   ]
  },
  {
   "cell_type": "code",
   "execution_count": 5,
   "metadata": {},
   "outputs": [
    {
     "data": {
      "text/html": [
       "<div>\n",
       "<style scoped>\n",
       "    .dataframe tbody tr th:only-of-type {\n",
       "        vertical-align: middle;\n",
       "    }\n",
       "\n",
       "    .dataframe tbody tr th {\n",
       "        vertical-align: top;\n",
       "    }\n",
       "\n",
       "    .dataframe thead th {\n",
       "        text-align: right;\n",
       "    }\n",
       "</style>\n",
       "<table border=\"1\" class=\"dataframe\">\n",
       "  <thead>\n",
       "    <tr style=\"text-align: right;\">\n",
       "      <th></th>\n",
       "      <th>Applicant_ID</th>\n",
       "      <th>Annual_Income</th>\n",
       "      <th>Applicant_Age</th>\n",
       "      <th>Work_Experience</th>\n",
       "      <th>Marital_Status</th>\n",
       "      <th>House_Ownership</th>\n",
       "      <th>Vehicle_Ownership(car)</th>\n",
       "      <th>Occupation</th>\n",
       "      <th>Residence_City</th>\n",
       "      <th>Residence_State</th>\n",
       "      <th>Years_in_Current_Employment</th>\n",
       "      <th>Years_in_Current_Residence</th>\n",
       "    </tr>\n",
       "  </thead>\n",
       "  <tbody>\n",
       "    <tr>\n",
       "      <th>0</th>\n",
       "      <td>75722</td>\n",
       "      <td>9657655</td>\n",
       "      <td>76</td>\n",
       "      <td>0</td>\n",
       "      <td>single</td>\n",
       "      <td>rented</td>\n",
       "      <td>no</td>\n",
       "      <td>Psychologist</td>\n",
       "      <td>Jalandhar</td>\n",
       "      <td>Punjab</td>\n",
       "      <td>0</td>\n",
       "      <td>12</td>\n",
       "    </tr>\n",
       "  </tbody>\n",
       "</table>\n",
       "</div>"
      ],
      "text/plain": [
       "   Applicant_ID  Annual_Income  Applicant_Age  Work_Experience Marital_Status  \\\n",
       "0         75722        9657655             76                0         single   \n",
       "\n",
       "  House_Ownership Vehicle_Ownership(car)    Occupation Residence_City  \\\n",
       "0          rented                     no  Psychologist      Jalandhar   \n",
       "\n",
       "  Residence_State  Years_in_Current_Employment  Years_in_Current_Residence  \n",
       "0          Punjab                            0                          12  "
      ]
     },
     "execution_count": 5,
     "metadata": {},
     "output_type": "execute_result"
    }
   ],
   "source": [
    " \n",
    "# Create a dictionary with the data\n",
    "data_dummy = {\n",
    "    'Applicant_ID': [75722],\n",
    "    'Annual_Income': [9657655],\n",
    "    'Applicant_Age': [76],\n",
    "    'Work_Experience': [0],\n",
    "    'Marital_Status': ['single'],\n",
    "    'House_Ownership': ['rented'],\n",
    "    'Vehicle_Ownership(car)': ['no'],\n",
    "    'Occupation': ['Psychologist'],\n",
    "    'Residence_City': ['Jalandhar'],\n",
    "    'Residence_State': ['Punjab'],\n",
    "    'Years_in_Current_Employment': [0],\n",
    "    'Years_in_Current_Residence': [12]\n",
    "}\n",
    "\n",
    "# Create the DataFrame\n",
    "df = pd.DataFrame(data_dummy)\n",
    "\n",
    "# Print the DataFrame\n",
    "df\n"
   ]
  },
  {
   "cell_type": "markdown",
   "metadata": {},
   "source": [
    "# Load the data to preprocessor stage and create predictions with the trained random forest model"
   ]
  },
  {
   "cell_type": "code",
   "execution_count": 10,
   "metadata": {},
   "outputs": [
    {
     "name": "stdout",
     "output_type": "stream",
     "text": [
      "['No default']\n"
     ]
    }
   ],
   "source": [
    "# Preprocess the new data\n",
    "new_data_processed = loaded_preprocessor.transform(df)\n",
    "\n",
    "# Make predictions using the loaded model\n",
    "predictions = loaded_model.predict(new_data_processed)\n",
    "\n",
    "# Convert predictions to 0: No default, 1: Default\n",
    "converted_predictions = ['Default' if pred == 1 else 'No default' for pred in predictions]\n",
    "\n",
    "# Print the converted predictions\n",
    "print(converted_predictions)"
   ]
  }
 ],
 "metadata": {
  "kernelspec": {
   "display_name": "Python 3",
   "language": "python",
   "name": "python3"
  },
  "language_info": {
   "codemirror_mode": {
    "name": "ipython",
    "version": 3
   },
   "file_extension": ".py",
   "mimetype": "text/x-python",
   "name": "python",
   "nbconvert_exporter": "python",
   "pygments_lexer": "ipython3",
   "version": "3.9.4"
  }
 },
 "nbformat": 4,
 "nbformat_minor": 2
}
